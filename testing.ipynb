{
 "cells": [
  {
   "cell_type": "code",
   "execution_count": null,
   "id": "056b4144",
   "metadata": {},
   "outputs": [],
   "source": [
    "from pathlib import Path\n",
    "\n",
    "import os\n",
    "\n",
    "\n",
    "from dotenv import load_dotenv\n",
    "\n",
    "from azure.identity import AzureAuthorityHosts\n",
    "\n",
    "from azure.search.documents import SearchClient\n",
    "\n",
    "\n",
    "env_directory = Path.cwd() / \".azure\"\n",
    "\n",
    "env_file = next(\n",
    "    (candidate / \".env\" for candidate in env_directory.glob(\"avcoe-*\")),\n",
    "    None,\n",
    ")\n",
    "\n",
    "if env_file is None:\n",
    "    raise FileNotFoundError(\n",
    "        \"Could not locate an avcoe-* environment directory under .azure\"\n",
    "    )\n",
    "\n",
    "\n",
    "load_dotenv(dotenv_path=env_file, override=False)\n",
    "\n",
    "\n",
    "search_endpoint = os.environ[\"SEARCH_SERVICE_ENDPOINT\"]\n",
    "\n",
    "search_index = os.environ[\"SEARCH_INDEX_NAME\"]\n",
    "\n",
    "print(f\"Using search endpoint {search_endpoint}, and index: {search_index}\")\n",
    "\n",
    "authority_host = (\n",
    "    AzureAuthorityHosts.AZURE_GOVERNMENT\n",
    "    if os.getenv(\"CLOUD_NAME\") == \"AzureUSGovernment\"\n",
    "    else AzureAuthorityHosts.AZURE_PUBLIC_CLOUD\n",
    ")\n",
    "\n",
    "print(f\"Using authority host: {authority_host}\")"
   ]
  },
  {
   "cell_type": "code",
   "execution_count": null,
   "id": "9a0db437",
   "metadata": {},
   "outputs": [],
   "source": [
    "# For Azure Government, we need to use AzureCliCredential directly with the right scope\n",
    "from azure.identity import AzureCliCredential\n",
    "\n",
    "# Set the correct credential scope for Azure Government\n",
    "credential_scope = (\n",
    "    \"https://search.azure.us/.default\"\n",
    "    if os.getenv(\"CLOUD_NAME\") == \"AzureUSGovernment\"\n",
    "    else \"https://search.azure.com/.default\"\n",
    ")\n",
    "\n",
    "print(f\"Using credential scope: {credential_scope}\")\n",
    "\n",
    "# Use AzureCliCredential directly since we know CLI is authenticated properly\n",
    "credential = AzureCliCredential()\n",
    "\n",
    "# Create a wrapper that uses the right scope\n",
    "\n",
    "\n",
    "class ScopedCredential:\n",
    "    def __init__(self, credential, scope):\n",
    "        self._credential = credential\n",
    "        self._scope = scope\n",
    "\n",
    "    def get_token(self, *scopes, **kwargs):\n",
    "        # Always use our custom scope regardless of what's requested\n",
    "        return self._credential.get_token(self._scope, **kwargs)\n",
    "\n",
    "\n",
    "scoped_credential = ScopedCredential(credential, credential_scope)\n",
    "\n",
    "# Create SearchClient with the scoped credential\n",
    "search_client = SearchClient(search_endpoint, search_index, scoped_credential)"
   ]
  },
  {
   "cell_type": "code",
   "execution_count": null,
   "id": "468834f6",
   "metadata": {},
   "outputs": [],
   "source": [
    "results = search_client.search(\"test\")"
   ]
  },
  {
   "cell_type": "code",
   "execution_count": null,
   "id": "d3e56211",
   "metadata": {},
   "outputs": [],
   "source": [
    "for result in results:\n",
    "    print(result)\n",
    "    break"
   ]
  },
  {
   "cell_type": "code",
   "execution_count": null,
   "id": "e028a41a",
   "metadata": {},
   "outputs": [],
   "source": []
  }
 ],
 "metadata": {
  "kernelspec": {
   "display_name": ".venv",
   "language": "python",
   "name": "python3"
  },
  "language_info": {
   "codemirror_mode": {
    "name": "ipython",
    "version": 3
   },
   "file_extension": ".py",
   "mimetype": "text/x-python",
   "name": "python",
   "nbconvert_exporter": "python",
   "pygments_lexer": "ipython3",
   "version": "3.10.17"
  }
 },
 "nbformat": 4,
 "nbformat_minor": 5
}
