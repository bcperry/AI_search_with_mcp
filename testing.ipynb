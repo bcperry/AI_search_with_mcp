{
 "cells": [
  {
   "cell_type": "markdown",
   "id": "79f4c51d",
   "metadata": {},
   "source": [
    "[Authenticating to sovereign cloud](https://learn.microsoft.com/en-us/python/api/overview/azure/search-documents-readme?view=azure-python#authenticate-in-a-national-cloud)"
   ]
  },
  {
   "cell_type": "code",
   "execution_count": null,
   "id": "056b4144",
   "metadata": {},
   "outputs": [],
   "source": [
    "from pathlib import Path\n",
    "import os\n",
    "import json\n",
    "from dotenv import load_dotenv\n",
    "from azure.identity import DefaultAzureCredential, AzureAuthorityHosts\n",
    "from azure.search.documents import SearchClient\n",
    "\n",
    "env_directory = Path.cwd() / \".azure\"\n",
    "\n",
    "env_file = next(\n",
    "    (candidate / \".env\" for candidate in env_directory.glob(\"avcoe-*\")),\n",
    "    None,\n",
    ")\n",
    "\n",
    "if env_file is None:\n",
    "    raise FileNotFoundError(\n",
    "        \"Could not locate an avcoe-* environment directory under .azure\"\n",
    "    )\n",
    "\n",
    "load_dotenv(dotenv_path=env_file, override=False)\n",
    "\n",
    "search_endpoint = os.environ[\"SEARCH_SERVICE_ENDPOINT\"]\n",
    "\n",
    "search_index = os.environ[\"SEARCH_INDEX_NAME\"]\n",
    "\n",
    "print(f\"Using search endpoint {search_endpoint}, and index: {search_index}\")\n",
    "\n",
    "authority_host = (\n",
    "    AzureAuthorityHosts.AZURE_GOVERNMENT\n",
    "    if os.getenv(\"CLOUD_NAME\") == \"AzureUSGovernment\"\n",
    "    else AzureAuthorityHosts.AZURE_PUBLIC_CLOUD\n",
    ")\n",
    "\n",
    "print(f\"Using authority host: {authority_host}\")"
   ]
  },
  {
   "cell_type": "code",
   "execution_count": null,
   "id": "9a0db437",
   "metadata": {},
   "outputs": [],
   "source": [
    "# Set the correct credential scope for Azure Government\n",
    "audience = (\"https://search.azure.us\" if os.getenv(\"CLOUD_NAME\") == \"AzureUSGovernment\"else \"https://search.azure.com\")\n",
    "\n",
    "print(f\"Using credential scope: {audience}\")\n",
    "\n",
    "credential = DefaultAzureCredential()\n",
    "\n",
    "# Create SearchClient with the scoped credential\n",
    "search_client = SearchClient(search_endpoint, search_index, credential, audience=audience)"
   ]
  },
  {
   "cell_type": "code",
   "execution_count": null,
   "id": "dc275151",
   "metadata": {},
   "outputs": [],
   "source": [
    "results = search_client.search(\"*\",\n",
    "                                 facets=[\"title\"],\n",
    ")\n",
    "\n",
    "results.get_facets()"
   ]
  },
  {
   "cell_type": "code",
   "execution_count": null,
   "id": "f6f3425e",
   "metadata": {},
   "outputs": [],
   "source": [
    "import pandas as pd\n",
    "\n",
    "# Get the facet results\n",
    "facet_results = results.get_facets()['title']\n",
    "\n",
    "# Convert to DataFrame\n",
    "df = pd.DataFrame(facet_results)\n",
    "\n",
    "# Display as a table\n",
    "df"
   ]
  },
  {
   "cell_type": "code",
   "execution_count": null,
   "id": "b86864bf",
   "metadata": {},
   "outputs": [],
   "source": [
    "doc_list = list(df.value)"
   ]
  },
  {
   "cell_type": "code",
   "execution_count": null,
   "id": "468834f6",
   "metadata": {},
   "outputs": [],
   "source": [
    "\n",
    "results = search_client.search(\"what is an example of a group 2 UAS\",\n",
    "                                 top=3,\n",
    "                                 include_total_count=True,\n",
    "                                 query_type=\"semantic\",\n",
    "                                 filter=f\"title eq '{doc_list[3]}'\",\n",
    "                                 select=[\"title\", \"chunk\"],)\n",
    "                                 \n",
    "for result in results:\n",
    "    print(json.dumps(dict(result), indent=2, default=str))"
   ]
  },
  {
   "cell_type": "code",
   "execution_count": null,
   "id": "72726334",
   "metadata": {},
   "outputs": [],
   "source": []
  }
 ],
 "metadata": {
  "kernelspec": {
   "display_name": ".venv",
   "language": "python",
   "name": "python3"
  },
  "language_info": {
   "codemirror_mode": {
    "name": "ipython",
    "version": 3
   },
   "file_extension": ".py",
   "mimetype": "text/x-python",
   "name": "python",
   "nbconvert_exporter": "python",
   "pygments_lexer": "ipython3",
   "version": "3.10.17"
  }
 },
 "nbformat": 4,
 "nbformat_minor": 5
}
